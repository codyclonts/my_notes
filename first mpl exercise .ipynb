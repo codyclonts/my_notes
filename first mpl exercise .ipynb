{
 "cells": [
  {
   "cell_type": "code",
   "execution_count": 2,
   "id": "75752a88",
   "metadata": {},
   "outputs": [],
   "source": [
    "import matplotlib.pyplot as plt "
   ]
  },
  {
   "cell_type": "code",
   "execution_count": 3,
   "id": "989717f1",
   "metadata": {},
   "outputs": [
    {
     "data": {
      "text/plain": [
       "<matplotlib.legend.Legend at 0x7fa5e80810a0>"
      ]
     },
     "execution_count": 3,
     "metadata": {},
     "output_type": "execute_result"
    },
    {
     "data": {
      "image/png": "[encoded data removed]",
      "text/plain": [
       "<Figure size 576x432 with 1 Axes>"
      ]
     },
     "metadata": {
      "needs_background": "light"
     },
     "output_type": "display_data"
    }
   ],
   "source": [
    "plt.figure(figsize= (8,6))\n",
    "x = [1,2,3,4,5,6,7]\n",
    "y = [100/x for x in x]\n",
    "\n",
    "#plot the data\n",
    "plt.plot(x,\n",
    "         y, \n",
    "         color = \"red\",\n",
    "         marker = 'o',\n",
    "         ls = '--', \n",
    "         label = \"some curve\")\n",
    "\n",
    "plt.title('my first matplotlib')\n",
    "plt.legend()\n"
   ]
  },
  {
   "cell_type": "code",
   "execution_count": 5,
   "id": "8dbf94dc",
   "metadata": {},
   "outputs": [
    {
     "ename": "SyntaxError",
     "evalue": "invalid syntax (4152191994.py, line 13)",
     "output_type": "error",
     "traceback": [
      "\u001b[0;36m  File \u001b[0;32m\"/var/folders/n9/2cn6jhrn6y18fntry1wgdn5m0000gp/T/ipykernel_69761/4152191994.py\"\u001b[0;36m, line \u001b[0;32m13\u001b[0m\n\u001b[0;31m    plt.subplot(1,2,1)\u001b[0m\n\u001b[0m    ^\u001b[0m\n\u001b[0;31mSyntaxError\u001b[0m\u001b[0;31m:\u001b[0m invalid syntax\n"
     ]
    }
   ],
   "source": [
    "x1 = np.linspace(0.0, 5.0)\n",
    "x2 = np.linspace(0.0, 2.0)\n",
    "y1 = np.cos(2 * np.pi * x1) * np.exp(-x1)\n",
    "y2 = np.cos(2 * np.pi * x2)\n",
    "\n",
    "plt.tight_layout() #makes sure overlaps don't happen\n",
    "# create a figure object with  size 10,8\n",
    "plt.figure(figsize(10,8)\n",
    "\n",
    "# create two axes inside the figure in 1x2 grid (i.e. one row and two columns)\n",
    "# using the plt.subplot() method\n",
    "\n",
    "plt.subplot(1,2,1)\n",
    "plt.subplot(x1,y1)\n",
    "plt.subplot(122)\n",
    "plt.subplot(x2,y2)\n",
    "# plot the following data (x1, y1 on subplot1 and x2, y2 on subplot2):\n",
    "\n",
    "\n",
    "\n",
    "# Add appropriate labels, titles, line colors, styles etc.\n",
    "\n"
   ]
  },
  {
   "cell_type": "code",
   "execution_count": null,
   "id": "cb58fb30",
   "metadata": {},
   "outputs": [],
   "source": []
  }
 ],
 "metadata": {
  "kernelspec": {
   "display_name": "Python 3 (ipykernel)",
   "language": "python",
   "name": "python3"
  },
  "language_info": {
   "codemirror_mode": {
    "name": "ipython",
    "version": 3
   },
   "file_extension": ".py",
   "mimetype": "text/x-python",
   "name": "python",
   "nbconvert_exporter": "python",
   "pygments_lexer": "ipython3",
   "version": "3.9.7"
  }
 },
 "nbformat": 4,
 "nbformat_minor": 5
}
